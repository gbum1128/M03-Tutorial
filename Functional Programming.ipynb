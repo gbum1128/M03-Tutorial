{
 "cells": [
  {
   "cell_type": "code",
   "execution_count": 1,
   "id": "3f382612-6a56-4b2c-acdc-98d2548656ba",
   "metadata": {},
   "outputs": [
    {
     "name": "stdout",
     "output_type": "stream",
     "text": [
      "Even number\n"
     ]
    }
   ],
   "source": [
    "calc = lambda num: \"Even number\" if num % 2 == 0 else \"Odd number\"\n",
    " \n",
    "print(calc(20))"
   ]
  },
  {
   "cell_type": "code",
   "execution_count": 2,
   "id": "61d087e6-8fe2-4b04-a3e2-b5c6f22de5cb",
   "metadata": {},
   "outputs": [
    {
     "name": "stdout",
     "output_type": "stream",
     "text": [
      "<function <lambda> at 0x0000023307CA68E0>\n"
     ]
    }
   ],
   "source": [
    "string = 'GeeksforGeeks'\n",
    " \n",
    "# lambda returns a function object\n",
    "print(lambda string: string)"
   ]
  },
  {
   "cell_type": "code",
   "execution_count": 3,
   "id": "951428dd-8e2c-4577-8b96-f556dc89ef5f",
   "metadata": {},
   "outputs": [
    {
     "name": "stdout",
     "output_type": "stream",
     "text": [
      "filter_nums(): Geeks\n",
      "do_exclaim(): I am tired!\n",
      "find_sum(): 2\n"
     ]
    }
   ],
   "source": [
    "filter_nums = lambda s: ''.join([ch for ch in s if not ch.isdigit()])\n",
    "print(\"filter_nums():\", filter_nums(\"Geeks101\"))\n",
    " \n",
    "do_exclaim = lambda s: s + '!'\n",
    "print(\"do_exclaim():\", do_exclaim(\"I am tired\"))\n",
    " \n",
    "find_sum = lambda n: sum([int(x) for x in str(n)])\n",
    "print(\"find_sum():\", find_sum(101))"
   ]
  },
  {
   "cell_type": "code",
   "execution_count": 4,
   "id": "58a106fb-71d1-422b-bc5f-28d9e564a437",
   "metadata": {},
   "outputs": [
    {
     "name": "stdout",
     "output_type": "stream",
     "text": [
      "invoking function defined with def keyword:\n",
      "Finding cube of number:30\n",
      "27000\n",
      "invoking lambda function: 27000\n"
     ]
    }
   ],
   "source": [
    "def cube(y):\n",
    "    print(f\"Finding cube of number:{y}\")\n",
    "    return y * y * y\n",
    " \n",
    " \n",
    "lambda_cube = lambda num: num ** 3\n",
    " \n",
    "# invoking simple function\n",
    "print(\"invoking function defined with def keyword:\")\n",
    "print(cube(30))\n",
    "# invoking lambda function\n",
    "print(\"invoking lambda function:\", lambda_cube(30))"
   ]
  },
  {
   "cell_type": "code",
   "execution_count": 5,
   "id": "a7b69c11-74c9-44e8-a344-f5efaa576e5d",
   "metadata": {},
   "outputs": [
    {
     "name": "stdout",
     "output_type": "stream",
     "text": [
      "Sorted numerically: ['-2', '-1', '0', '1', '2', '9']\n",
      "Filtered positive even numbers: ['1', '9', '0', '-1', '-2']\n",
      "Operation on each item using lambda and map() ['11', '12', '19', '10', '9', '8']\n"
     ]
    }
   ],
   "source": [
    "l = [\"1\", \"2\", \"9\", \"0\", \"-1\", \"-2\"]\n",
    "# sort list[str] numerically using sorted()\n",
    "# and custom sorting key using lambda\n",
    "print(\"Sorted numerically:\",\n",
    "      sorted(l, key=lambda x: int(x)))\n",
    " \n",
    "# filter positive even numbers\n",
    "# using filter() and lambda function\n",
    "print(\"Filtered positive even numbers:\", \n",
    "      list(filter(lambda x: not (int(x) % 2 == 0 and int(x) > 0), l)))\n",
    " \n",
    "# added 10 to each item after type and\n",
    "# casting to int, then convert items to string again\n",
    "print(\"Operation on each item using lambda and map()\",\n",
    "      list(map(lambda x: str(int(x) + 10), l)))"
   ]
  },
  {
   "cell_type": "code",
   "execution_count": 6,
   "id": "4d446ff8-0116-4115-b168-9f64ac99e0ab",
   "metadata": {},
   "outputs": [
    {
     "name": "stdout",
     "output_type": "stream",
     "text": [
      "[1, 3, 5]\n"
     ]
    }
   ],
   "source": [
    "# Example list\n",
    "my_list = [1, 2, 3, 4, 5]\n",
    " \n",
    "# Use lambda to filter out even numbers from the list\n",
    "new_list = list(filter(lambda x: x % 2 != 0, my_list))\n",
    " \n",
    "# Print the new list\n",
    "print(new_list)"
   ]
  },
  {
   "cell_type": "code",
   "execution_count": null,
   "id": "d0f1bbe3-20c1-47cb-a9a5-68673cee4831",
   "metadata": {},
   "outputs": [],
   "source": []
  }
 ],
 "metadata": {
  "kernelspec": {
   "display_name": "Python 3 (ipykernel)",
   "language": "python",
   "name": "python3"
  },
  "language_info": {
   "codemirror_mode": {
    "name": "ipython",
    "version": 3
   },
   "file_extension": ".py",
   "mimetype": "text/x-python",
   "name": "python",
   "nbconvert_exporter": "python",
   "pygments_lexer": "ipython3",
   "version": "3.11.7"
  }
 },
 "nbformat": 4,
 "nbformat_minor": 5
}
